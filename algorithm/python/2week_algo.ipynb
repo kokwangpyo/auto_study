{
 "cells": [
  {
   "cell_type": "code",
   "execution_count": 21,
   "metadata": {},
   "outputs": [
    {
     "data": {
      "text/plain": [
       "5"
      ]
     },
     "execution_count": 21,
     "metadata": {},
     "output_type": "execute_result"
    }
   ],
   "source": [
    "#binary representation 푸는 문제\n",
    "def solution(N):\n",
    "    convertToBinary = getConvertToBinary(N)\n",
    "    return getBinaryRepresentation(convertToBinary).pop()\n",
    "    \n",
    "def getConvertToBinary(N):\n",
    "    convertToBinary = bin(N)\n",
    "    convertToBinary= convertToBinary.replace(\"0b\",\"\")\n",
    "    return convertToBinary\n",
    "\n",
    "def getBinaryRepresentation(strBinary):\n",
    "    setCount = set()\n",
    "    count = 0\n",
    "    for binaryCode in strBinary:\n",
    "        if(binaryCode == '1'):\n",
    "            setCount.add(count)\n",
    "            count = 0\n",
    "        else :\n",
    "            count += 1\n",
    "    setCount = sorted(setCount, reverse=False)\n",
    "    return setCount\n",
    "\n",
    "solution(1041)"
   ]
  },
  {
   "cell_type": "code",
   "execution_count": null,
   "metadata": {},
   "outputs": [],
   "source": []
  }
 ],
 "metadata": {
  "kernelspec": {
   "display_name": "Python 3",
   "language": "python",
   "name": "python3"
  },
  "language_info": {
   "codemirror_mode": {
    "name": "ipython",
    "version": 3
   },
   "file_extension": ".py",
   "mimetype": "text/x-python",
   "name": "python",
   "nbconvert_exporter": "python",
   "pygments_lexer": "ipython3",
   "version": "3.6.3"
  }
 },
 "nbformat": 4,
 "nbformat_minor": 2
}
